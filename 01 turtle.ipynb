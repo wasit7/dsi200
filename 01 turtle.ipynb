{
 "cells": [
  {
   "cell_type": "code",
   "execution_count": 8,
   "metadata": {},
   "outputs": [
    {
     "data": {
      "application/vnd.jupyter.widget-view+json": {
       "model_id": "7420bf56429349119c5b53c68fd8ebba",
       "version_major": 2,
       "version_minor": 0
      },
      "text/plain": [
       "Turtle()"
      ]
     },
     "metadata": {},
     "output_type": "display_data"
    }
   ],
   "source": [
    "from ipyturtle import Turtle\n",
    "t = Turtle(fixed=True, width=200, height=200)\n",
    "t"
   ]
  },
  {
   "cell_type": "code",
   "execution_count": 19,
   "metadata": {},
   "outputs": [
    {
     "data": {
      "text/plain": [
       "(0.0, 0.0)"
      ]
     },
     "execution_count": 19,
     "metadata": {},
     "output_type": "execute_result"
    }
   ],
   "source": [
    "t.position()"
   ]
  },
  {
   "cell_type": "code",
   "execution_count": 20,
   "metadata": {},
   "outputs": [
    {
     "data": {
      "text/plain": [
       "0.0"
      ]
     },
     "execution_count": 20,
     "metadata": {},
     "output_type": "execute_result"
    }
   ],
   "source": [
    "t.heading()"
   ]
  },
  {
   "cell_type": "code",
   "execution_count": 21,
   "metadata": {},
   "outputs": [
    {
     "data": {
      "text/plain": [
       "(0.0, 50.0)"
      ]
     },
     "execution_count": 21,
     "metadata": {},
     "output_type": "execute_result"
    }
   ],
   "source": [
    "t.reset()\n",
    "t.forward(50)\n",
    "t.position()"
   ]
  },
  {
   "cell_type": "code",
   "execution_count": 22,
   "metadata": {},
   "outputs": [
    {
     "data": {
      "text/plain": [
       "0.0"
      ]
     },
     "execution_count": 22,
     "metadata": {},
     "output_type": "execute_result"
    }
   ],
   "source": [
    "t.reset()\n",
    "t.right(90)\n",
    "t.heading()"
   ]
  },
  {
   "cell_type": "code",
   "execution_count": 25,
   "metadata": {},
   "outputs": [],
   "source": [
    "import turtle\n",
    "\n",
    "def draw_circle(turtle, color, size, x, y):\n",
    "    turtle.penup()\n",
    "    turtle.color(color)\n",
    "    turtle.fillcolor(color)\n",
    "    turtle.goto(x,y)\n",
    "    turtle.begin_fill()\n",
    "    turtle.pendown()\n",
    "    turtle.circle(size)\n",
    "    turtle.penup()\n",
    "    turtle.end_fill()\n",
    "    turtle.pendown()\n",
    "\n",
    "tommy = turtle.Turtle()\n",
    "tommy.shape(\"turtle\")\n",
    "tommy.speed(500)\n",
    "\n",
    "draw_circle(tommy, \"green\", 50, 25, 0)\n",
    "draw_circle(tommy, \"blue\", 50, 0, 0)\n",
    "draw_circle(tommy, \"yellow\", 50, -25, 0)\n",
    "\n",
    "tommy.penup()\n",
    "tommy.goto(0,-50)\n",
    "tommy.color('black')\n",
    "tommy.write(\"Let's Learn Python!\", align=\"center\", font=(None, 16, \"bold\"))\n",
    "tommy.goto(0,-80)"
   ]
  },
  {
   "cell_type": "code",
   "execution_count": null,
   "metadata": {},
   "outputs": [],
   "source": []
  }
 ],
 "metadata": {
  "kernelspec": {
   "display_name": "Python 3",
   "language": "python",
   "name": "python3"
  },
  "language_info": {
   "codemirror_mode": {
    "name": "ipython",
    "version": 3
   },
   "file_extension": ".py",
   "mimetype": "text/x-python",
   "name": "python",
   "nbconvert_exporter": "python",
   "pygments_lexer": "ipython3",
   "version": "3.6.10"
  }
 },
 "nbformat": 4,
 "nbformat_minor": 4
}
